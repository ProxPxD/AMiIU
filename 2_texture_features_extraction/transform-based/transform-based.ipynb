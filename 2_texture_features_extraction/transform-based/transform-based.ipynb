{
 "cells": [
  {
   "cell_type": "code",
   "execution_count": 14,
   "id": "28928127-c989-487e-a5f0-1bb364043f7e",
   "metadata": {},
   "outputs": [
    {
     "name": "stdout",
     "output_type": "stream",
     "text": [
      "Defaulting to user installation because normal site-packages is not writeable\n",
      "Requirement already satisfied: scipy in /home/proxpxd/.local/lib/python3.12/site-packages (1.13.0)\n",
      "Requirement already satisfied: numpy<2.3,>=1.22.4 in /home/proxpxd/.local/lib/python3.12/site-packages (from scipy) (1.26.1)\n",
      "\n",
      "\u001b[1m[\u001b[0m\u001b[34;49mnotice\u001b[0m\u001b[1;39;49m]\u001b[0m\u001b[39;49m A new release of pip is available: \u001b[0m\u001b[31;49m23.3.1\u001b[0m\u001b[39;49m -> \u001b[0m\u001b[32;49m24.0\u001b[0m\n",
      "\u001b[1m[\u001b[0m\u001b[34;49mnotice\u001b[0m\u001b[1;39;49m]\u001b[0m\u001b[39;49m To update, run: \u001b[0m\u001b[32;49mpython3.12 -m pip install --upgrade pip\u001b[0m\n",
      "Defaulting to user installation because normal site-packages is not writeable\n",
      "Collecting PyWavelets\n",
      "  Downloading pywavelets-1.6.0-cp312-cp312-manylinux_2_17_x86_64.manylinux2014_x86_64.whl.metadata (9.0 kB)\n",
      "Requirement already satisfied: numpy<3,>=1.22.4 in /home/proxpxd/.local/lib/python3.12/site-packages (from PyWavelets) (1.26.1)\n",
      "Downloading pywavelets-1.6.0-cp312-cp312-manylinux_2_17_x86_64.manylinux2014_x86_64.whl (4.5 MB)\n",
      "\u001b[2K   \u001b[38;2;114;156;31m━━━━━━━━━━━━━━━━━━━━━━━━━━━━━━━━━━━━━━━━\u001b[0m \u001b[32m4.5/4.5 MB\u001b[0m \u001b[31m5.1 MB/s\u001b[0m eta \u001b[36m0:00:00\u001b[0m[36m0:00:01\u001b[0m[36m0:00:01\u001b[0m:01\u001b[0m\n",
      "\u001b[?25hInstalling collected packages: PyWavelets\n",
      "Successfully installed PyWavelets-1.6.0\n",
      "\n",
      "\u001b[1m[\u001b[0m\u001b[34;49mnotice\u001b[0m\u001b[1;39;49m]\u001b[0m\u001b[39;49m A new release of pip is available: \u001b[0m\u001b[31;49m23.3.1\u001b[0m\u001b[39;49m -> \u001b[0m\u001b[32;49m24.0\u001b[0m\n",
      "\u001b[1m[\u001b[0m\u001b[34;49mnotice\u001b[0m\u001b[1;39;49m]\u001b[0m\u001b[39;49m To update, run: \u001b[0m\u001b[32;49mpython3.12 -m pip install --upgrade pip\u001b[0m\n"
     ]
    }
   ],
   "source": [
    "!pip install scipy\n",
    "!pip install PyWavelets"
   ]
  },
  {
   "cell_type": "code",
   "execution_count": 6,
   "id": "1453b69b-3b13-4188-956c-c8b7a31b2f34",
   "metadata": {},
   "outputs": [],
   "source": [
    "from pathlib import Path\n",
    "import sys  \n",
    "\n",
    "# Get my_package directory path from Notebook\n",
    "parent_dir = str(Path().resolve().parent)\n",
    "sys.path.insert(0, parent_dir)"
   ]
  },
  {
   "cell_type": "markdown",
   "id": "a1b6d1aa-69d7-4eac-a8b4-6ab7dae50135",
   "metadata": {},
   "source": [
    "# Transform-based Methods\n",
    "Transform methods represent an image in a space (such as\n",
    "the frequency or the scale space) whose coordinate system\n",
    "has an interpretation closely related to the characteristics of a\n",
    "texture."
   ]
  },
  {
   "cell_type": "code",
   "execution_count": 15,
   "id": "766c0650-cafb-4501-a77e-08a29af6b492",
   "metadata": {},
   "outputs": [],
   "source": [
    "import os \n",
    "\n",
    "# Utils\n",
    "from utilities import _image_xor\n",
    "from utilities import _pad_image_power_2\n",
    "\n",
    "# methods\n",
    "from lte import lte  # Law's texture Energy\n",
    "from fps import fps  # Fouriier Power Spectrum\n",
    "from gt import gt    # Gabor Transformation\n",
    "from dwt import dwt  # Discrete Wavelet Transfor\n",
    "\n"
   ]
  },
  {
   "cell_type": "markdown",
   "id": "d03a7393-d4c8-4702-976c-a11309db65ca",
   "metadata": {},
   "source": [
    "## Law's Texture Energy Measures (LTE/TEM)\n",
    "This feature extraction method involves the application of\n",
    "simple filters to digital images. It is based on two steps. First,\n",
    "several 1D arrays convolved together in a combi-\n",
    "natorial way are used to generate twenty-five masks"
   ]
  },
  {
   "cell_type": "code",
   "execution_count": null,
   "id": "da4ceddf-f4b4-4280-b113-62981b06cb2f",
   "metadata": {},
   "outputs": [],
   "source": []
  }
 ],
 "metadata": {
  "kernelspec": {
   "display_name": "Python 3 (ipykernel)",
   "language": "python",
   "name": "python3"
  },
  "language_info": {
   "codemirror_mode": {
    "name": "ipython",
    "version": 3
   },
   "file_extension": ".py",
   "mimetype": "text/x-python",
   "name": "python",
   "nbconvert_exporter": "python",
   "pygments_lexer": "ipython3",
   "version": "3.12.2"
  }
 },
 "nbformat": 4,
 "nbformat_minor": 5
}
