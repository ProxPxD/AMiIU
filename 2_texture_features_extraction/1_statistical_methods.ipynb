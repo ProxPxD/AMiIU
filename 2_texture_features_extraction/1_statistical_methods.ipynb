{
 "cells": [
  {
   "cell_type": "markdown",
   "metadata": {},
   "source": [
    "<img src=\"./utils_images/textures1.png\" width=99% height=\"250\">"
   ]
  },
  {
   "cell_type": "markdown",
   "metadata": {},
   "source": [
    "# Texture Feature Extraction"
   ]
  },
  {
   "cell_type": "markdown",
   "metadata": {},
   "source": [
    "Distinguishing between different textures comes naturally to the eyes. Nevertheless,\n",
    "no precise definition of texture has been adopted yet. It can be seen as a similarity grouping\n",
    "in an image or as natural scenes containing semi-repetitive arrangements of pixels. Several measures have also been introduced to formalise the texture. These measures can be used to identify patterns or structures in an image that are not captured by traditional features such as colour or shape.\n",
    "\n",
    "Teaxture Feature Extraction applications:\n",
    "- image classification\n",
    "- object detection\n",
    "- medical imaging\n",
    "- industrial automation\n",
    "- document image analysis\n",
    "- remote sensing\n",
    "- face recognition"
   ]
  },
  {
   "cell_type": "markdown",
   "metadata": {},
   "source": [
    "<img src=\"./utils_images/methods_classes.png\" width=60%>"
   ]
  },
  {
   "cell_type": "code",
   "execution_count": null,
   "metadata": {},
   "outputs": [],
   "source": []
  },
  {
   "cell_type": "code",
   "execution_count": null,
   "metadata": {},
   "outputs": [],
   "source": []
  }
 ],
 "metadata": {
  "language_info": {
   "name": "python"
  }
 },
 "nbformat": 4,
 "nbformat_minor": 2
}
