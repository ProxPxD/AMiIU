{
 "cells": [
  {
   "cell_type": "markdown",
   "metadata": {},
   "source": [
    "<img src=\"./utils_images/textures1.png\" width=99% height=\"250\">\n",
    "\n",
    "# Texture Feature Extraction\n",
    "\n",
    "Distinguishing between different textures comes naturally to the eyes. Nevertheless,\n",
    "no precise definition of texture has been adopted yet. It can be seen as a similarity grouping\n",
    "in an image or as natural scenes containing semi-repetitive arrangements of pixels. Several measures have also been introduced to formalise the texture. These measures can be used to identify patterns or structures in an image that are not captured by traditional features such as colour or shape.\n",
    "\n",
    "Teaxture Feature Extraction applications:\n",
    "- image classification\n",
    "- object detection\n",
    "- medical imaging\n",
    "- industrial automation\n",
    "- document image analysis\n",
    "- remote sensing\n",
    "- face recognition\\\n",
    "\\\n",
    "<img src=\"./utils_images/methods_classes.png\" width=60%>"
   ]
  },
  {
   "cell_type": "markdown",
   "metadata": {},
   "source": [
    "## Statistical methods\n",
    "The statistical properties of the spatial distribution of grey levels are used as texture descriptors"
   ]
  },
  {
   "cell_type": "markdown",
   "metadata": {},
   "source": [
    "### Grey Level Co-occurrence Matrix (GLCM)"
   ]
  },
  {
   "cell_type": "code",
   "execution_count": 2,
   "metadata": {},
   "outputs": [
    {
     "name": "stdout",
     "output_type": "stream",
     "text": [
      "None\n"
     ]
    }
   ],
   "source": [
    "import numpy as np\n",
    "from skimage.io import imread\n",
    "from skimage import io\n",
    "from skimage.color import rgb2gray\n",
    "import imageio\n",
    "import skimage\n",
    "import cv2\n",
    "\n",
    "#image = cv2.imread(//image_path)\n",
    "\n",
    "# Read in the image and convert it to grayscale\n",
    "image = cv2.imread('/kaggle/input/grapevine-leaves-image-dataset/Grapevine_Leaves_Image_Dataset/Ala_Idris/Ala_Idris (1).png')\n",
    "\n",
    "#image = rgb2gray(image)\n",
    "# io.imshow(image)"
   ]
  }
 ],
 "metadata": {
  "kernelspec": {
   "display_name": "env",
   "language": "python",
   "name": "python3"
  },
  "language_info": {
   "codemirror_mode": {
    "name": "ipython",
    "version": 3
   },
   "file_extension": ".py",
   "mimetype": "text/x-python",
   "name": "python",
   "nbconvert_exporter": "python",
   "pygments_lexer": "ipython3",
   "version": "3.11.8"
  }
 },
 "nbformat": 4,
 "nbformat_minor": 2
}
